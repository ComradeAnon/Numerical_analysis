{
 "cells": [
  {
   "cell_type": "code",
   "execution_count": 1,
   "id": "4bcafc89-7c64-4386-ac34-bc4a84954e26",
   "metadata": {},
   "outputs": [],
   "source": [
    "import numpy as np"
   ]
  },
  {
   "cell_type": "code",
   "execution_count": 5,
   "id": "eb793b6c-9043-4e2c-b327-e49ee4ace395",
   "metadata": {},
   "outputs": [],
   "source": [
    "def Lagrange(x: [float], y: [float]):\n",
    "    size = len(x)\n",
    "    #Храним значения ячеек главной диагонали#\n",
    "    P = []\n",
    "    #Храним произведения строк, кроме ячеек главной диагонали#\n",
    "    D = []\n",
    "    for i in range(size):\n",
    "        x_i = []\n",
    "        D_i = 1\n",
    "        for j in range(size):\n",
    "            if (i == j):\n",
    "                x_i.append(np.poly1d([1, -1 * x[i]]))\n",
    "                P_i = x_i[j]\n",
    "            else:\n",
    "                x_i.append(x[i] - x[j])\n",
    "                D_i = D_i * x_i[j]\n",
    "        D.append(D_i)\n",
    "        P.append(P_i)\n",
    "    ans = np.poly1d([0])\n",
    "    for i in range(size):\n",
    "        p = np.poly1d([1])\n",
    "        for j in range(size):\n",
    "            if (j != i):\n",
    "                p = p * P[j]\n",
    "        ans = ans + p * y[i] / D[i] \n",
    "    return ans\n",
    "#Функция возвращает многочлен Лагранжа максимальной степени#"
   ]
  },
  {
   "cell_type": "code",
   "execution_count": 4,
   "id": "e494ba49-488b-454c-b713-5f0ff603b553",
   "metadata": {},
   "outputs": [
    {
     "name": "stdout",
     "output_type": "stream",
     "text": [
      "      3      2\n",
      "-1.5 x + 16 x - 53.5 x + 62\n",
      "4.8124999999999645\n"
     ]
    }
   ],
   "source": [
    "#Точки#\n",
    "x = [2, 3, 4, 5]\n",
    "#Значения в точках#\n",
    "y = [7, 5, 8, 7]\n",
    "Lg = Lagrange(x, y)\n",
    "print(Lg)\n",
    "#Получим значение функции в точке#\n",
    "x_0 = 2.5\n",
    "print(Lg(x_0))"
   ]
  }
 ],
 "metadata": {
  "kernelspec": {
   "display_name": "Python 3 (ipykernel)",
   "language": "python",
   "name": "python3"
  },
  "language_info": {
   "codemirror_mode": {
    "name": "ipython",
    "version": 3
   },
   "file_extension": ".py",
   "mimetype": "text/x-python",
   "name": "python",
   "nbconvert_exporter": "python",
   "pygments_lexer": "ipython3",
   "version": "3.11.5"
  }
 },
 "nbformat": 4,
 "nbformat_minor": 5
}
