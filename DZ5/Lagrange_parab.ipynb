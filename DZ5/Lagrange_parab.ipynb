{
 "cells": [
  {
   "cell_type": "code",
   "execution_count": 2,
   "id": "710d6dc0-6c7c-4448-8947-a793cc4f6398",
   "metadata": {},
   "outputs": [],
   "source": [
    "import numpy as np"
   ]
  },
  {
   "cell_type": "code",
   "execution_count": 3,
   "id": "8c7a9fc4-f0c4-48c0-b14b-ee7caf14a5f6",
   "metadata": {},
   "outputs": [],
   "source": [
    "def Lagrange_parab(x: [float], y: [float], x_0: float):\n",
    "    #Окно интерполяции#\n",
    "    x_l, x_r = -1, -1\n",
    "    for i in range(len(x)):\n",
    "        #Если спрашивается точка по которой точно известны данные, то ее считать не нужно#\n",
    "        if np.isclose(x[i], x_0):\n",
    "            return y[i]\n",
    "        if (x[i] > x_0):\n",
    "            x_r = i\n",
    "            #Если точка меньше чем самая маленькая известная нам точка, то мы не можем знать поведение функции#\n",
    "            if (x_l == -1):\n",
    "                return False\n",
    "            #Границы найдены, останавливаем поиск#\n",
    "            else:\n",
    "                break\n",
    "        #Двигаем левую границу#\n",
    "        x_l = i\n",
    "    #Если точка больше чем самая большаяая известная нам точка, то мы не можем знать поведение функции#\n",
    "    if (x_r == -1):\n",
    "        return False\n",
    "    if (x_r == 1):\n",
    "        #Второе окно#\n",
    "        P_21 = (x_0 - x[x_r]) * (x_0 - x[x_r + 1]) / ((x[x_l] - x[x_r]) * (x[x_l] - x[x_r + 1]))\n",
    "        P_22 = (x_0 - x[x_l]) * (x_0 - x[x_r + 1]) / ((x[x_r] - x[x_l]) * (x[x_r] - x[x_r + 1]))\n",
    "        P_23 = (x_0 - x[x_l]) * (x_0 - x[x_r]) / ((x[x_r + 1] - x[x_l]) * (x[x_r + 1] - x[x_r]))\n",
    "        return P_21 * y[x_l] + P_22 * y[x_r] + P_23 * y[x_r + 1]\n",
    "    if (x_r == len(x) - 1):\n",
    "        #Первое окно#\n",
    "        P_11 = (x_0 - x[x_l]) * (x_0 - x[x_r]) / ((x[x_l - 1] - x[x_l]) * (x[x_l - 1] - x[x_r]))\n",
    "        P_12 = (x_0 - x[x_l - 1]) * (x_0 - x[x_r]) / ((x[x_l] - x[x_l - 1]) * (x[x_l] - x[x_r]))\n",
    "        P_13 = (x_0 - x[x_l - 1]) * (x_0 - x[x_l]) / ((x[x_r] - x[x_l]) * (x[x_r] - x[x_l - 1]))\n",
    "        return P_11 * y[x_l - 1] + P_12 * y[x_l] + P_13 * y[x_r]\n",
    "    #Первое окно#\n",
    "    P_11 = (x_0 - x[x_l]) * (x_0 - x[x_r]) / ((x[x_l - 1] - x[x_l]) * (x[x_l - 1] - x[x_r]))\n",
    "    P_12 = (x_0 - x[x_l - 1]) * (x_0 - x[x_r]) / ((x[x_l] - x[x_l - 1]) * (x[x_l] - x[x_r]))\n",
    "    P_13 = (x_0 - x[x_l - 1]) * (x_0 - x[x_l]) / ((x[x_r] - x[x_l]) * (x[x_r] - x[x_l - 1]))\n",
    "    #Второе окно#\n",
    "    P_21 = (x_0 - x[x_r]) * (x_0 - x[x_r + 1]) / ((x[x_l] - x[x_r]) * (x[x_l] - x[x_r + 1]))\n",
    "    P_22 = (x_0 - x[x_l]) * (x_0 - x[x_r + 1]) / ((x[x_r] - x[x_l]) * (x[x_r] - x[x_r + 1]))\n",
    "    P_23 = (x_0 - x[x_l]) * (x_0 - x[x_r]) / ((x[x_r + 1] - x[x_l]) * (x[x_r + 1] - x[x_r]))\n",
    "    return (P_11 * y[x_l - 1] + P_12 * y[x_l] + P_13 * y[x_r] + P_21 * y[x_l] + P_22 * y[x_r] + P_23 * y[x_r + 1]) / 2"
   ]
  },
  {
   "cell_type": "code",
   "execution_count": 5,
   "id": "797ab0d5-1302-41da-bd7e-f2fc4142cb6b",
   "metadata": {},
   "outputs": [
    {
     "name": "stdout",
     "output_type": "stream",
     "text": [
      "3.9999999999999996\n"
     ]
    }
   ],
   "source": [
    "#Точки#\n",
    "x = [-1, 0, 1, 3, 4]\n",
    "#Значения в точках#\n",
    "y = [-1, 0, 1, 9, 16]\n",
    "print(Lagrange_parab(x, y, 2))"
   ]
  }
 ],
 "metadata": {
  "kernelspec": {
   "display_name": "Python 3 (ipykernel)",
   "language": "python",
   "name": "python3"
  },
  "language_info": {
   "codemirror_mode": {
    "name": "ipython",
    "version": 3
   },
   "file_extension": ".py",
   "mimetype": "text/x-python",
   "name": "python",
   "nbconvert_exporter": "python",
   "pygments_lexer": "ipython3",
   "version": "3.11.5"
  }
 },
 "nbformat": 4,
 "nbformat_minor": 5
}
