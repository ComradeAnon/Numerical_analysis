{
  "nbformat": 4,
  "nbformat_minor": 0,
  "metadata": {
    "colab": {
      "provenance": [],
      "authorship_tag": "ABX9TyOkxY6ZyY1shzTvhQSXeGJD",
      "include_colab_link": true
    },
    "kernelspec": {
      "name": "python3",
      "display_name": "Python 3"
    },
    "language_info": {
      "name": "python"
    }
  },
  "cells": [
    {
      "cell_type": "markdown",
      "metadata": {
        "id": "view-in-github",
        "colab_type": "text"
      },
      "source": [
        "<a href=\"https://colab.research.google.com/github/ComradeAnon/Numerical_analysis/blob/main/DZ1/Simple_itteration.ipynb\" target=\"_parent\"><img src=\"https://colab.research.google.com/assets/colab-badge.svg\" alt=\"Open In Colab\"/></a>"
      ]
    },
    {
      "cell_type": "code",
      "execution_count": 2,
      "metadata": {
        "id": "bMFBzh8MCtRW"
      },
      "outputs": [],
      "source": [
        "def simple_iteration(x0, eps, max_iter, a):\n",
        "  for i in range(max_iter):\n",
        "    xn = (x0 + (a / x0)) / 2\n",
        "    if abs(xn - x0) < eps:\n",
        "      break\n",
        "    x0 = xn\n",
        "  return xn"
      ]
    },
    {
      "cell_type": "code",
      "source": [
        "print(simple_iteration(2, 10**-5, 20, 5))\n",
        "print(simple_iteration(23, 10**-5, 20, 625))\n",
        "print(simple_iteration(15, 10**-5, 20, 121))\n",
        "print(simple_iteration(7, 10**-5, 20, 72))"
      ],
      "metadata": {
        "colab": {
          "base_uri": "https://localhost:8080/"
        },
        "id": "xIxKd8DxnJa4",
        "outputId": "cf8244f8-1277-4757-93df-1ebe29cbfe44"
      },
      "execution_count": 3,
      "outputs": [
        {
          "output_type": "stream",
          "name": "stdout",
          "text": [
            "2.23606797749979\n",
            "25.0\n",
            "11.000000000002167\n",
            "8.485281374238571\n"
          ]
        }
      ]
    }
  ]
}