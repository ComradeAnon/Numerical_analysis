{
  "nbformat": 4,
  "nbformat_minor": 0,
  "metadata": {
    "colab": {
      "provenance": [],
      "authorship_tag": "ABX9TyPXZ+0fEzlXjod5mtXc2SyX",
      "include_colab_link": true
    },
    "kernelspec": {
      "name": "python3",
      "display_name": "Python 3"
    },
    "language_info": {
      "name": "python"
    }
  },
  "cells": [
    {
      "cell_type": "markdown",
      "metadata": {
        "id": "view-in-github",
        "colab_type": "text"
      },
      "source": [
        "<a href=\"https://colab.research.google.com/github/ComradeAnon/Numerical_analysis/blob/main/DZ1/dih.ipynb\" target=\"_parent\"><img src=\"https://colab.research.google.com/assets/colab-badge.svg\" alt=\"Open In Colab\"/></a>"
      ]
    },
    {
      "cell_type": "code",
      "execution_count": 17,
      "metadata": {
        "id": "zDmREwfFxWSd"
      },
      "outputs": [],
      "source": [
        "def dih(x0, x1, eps, max_it, f):\n",
        "  iter = 0\n",
        "  xn = x1;\n",
        "  while (abs(x1-x0) >= eps) and (iter < max_it):\n",
        "    iter += 1\n",
        "    xn = (x0 + x1) / 2\n",
        "    if f(x0) * f(xn) < 0:\n",
        "      x1 = xn\n",
        "    elif f(xn) * f(x1) < 0:\n",
        "      x0 = xn\n",
        "    if f(xn) == 0:\n",
        "      break;\n",
        "  return xn"
      ]
    },
    {
      "cell_type": "code",
      "source": [
        "def test_f_1(x):\n",
        "  return (x-2)*(x-3)*(x-3)*(x-7)\n",
        "\n",
        "def test_f_2(x):\n",
        "  return (x-5)*(x-10)*(x-72)\n",
        "\n",
        "print(dih(6, 9, 0.01, 100, test_f_1))\n",
        "print(dih(0, 2.5, 0.01, 100, test_f_1))\n",
        "print(dih(2, 9, 0.001, 100, test_f_2))\n",
        "print(dih(14, 102, 0.001, 100, test_f_2))"
      ],
      "metadata": {
        "colab": {
          "base_uri": "https://localhost:8080/"
        },
        "id": "2gL0_lc71EiK",
        "outputId": "aab13041-5a62-41de-a057-eae370637ddc"
      },
      "execution_count": 24,
      "outputs": [
        {
          "output_type": "stream",
          "name": "stdout",
          "text": [
            "7.001953125\n",
            "2.001953125\n",
            "5.0001220703125\n",
            "72.00042724609375\n"
          ]
        }
      ]
    }
  ]
}