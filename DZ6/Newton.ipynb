{
 "cells": [
  {
   "cell_type": "code",
   "execution_count": 2,
   "metadata": {},
   "outputs": [],
   "source": [
    "import numpy as np"
   ]
  },
  {
   "cell_type": "code",
   "execution_count": 116,
   "metadata": {},
   "outputs": [],
   "source": [
    "def Newton_polynomial(x: list[float], y: list[float], k:int=0):\n",
    "    if not isinstance(k, int):\n",
    "        raise Exception(\"The number of the element from which the Newton polynomial is calculated must be an integer\")\n",
    "    if k >= len(x):\n",
    "        raise Exception(\"The number of the element from which the Newton polynomial is calculated must be less than the numbers of the grid function\")\n",
    "    if k < 0:\n",
    "        raise Exception(\"The number of the element from which the Newton polynomial is calculated must be non-negative\")\n",
    "    y = y[k:]\n",
    "    x = x[k:]\n",
    "    ans = np.poly1d([y[0]])\n",
    "    x_part = np.poly1d([1])\n",
    "    for i in range(len(x) - 1):\n",
    "        for j in range(len(x) - 1 - i):\n",
    "            y[j] = (y[j+1] - y[j]) / (x[j + i + 1] - x[j])\n",
    "        x_part *= np.poly1d([1, -x[i]])\n",
    "        ans += x_part*y[0]\n",
    "    return(ans)"
   ]
  },
  {
   "cell_type": "code",
   "execution_count": 114,
   "metadata": {},
   "outputs": [],
   "source": [
    "def Newton_interpolation_polynomial(x: list[float], y: list[float], second:bool = False):\n",
    "    for i in range(len(x) - 1):\n",
    "        if (x[i + 1] - x[i]) != (x[1] - x[0]):\n",
    "            raise Exception(\"The grid function is not uniform\")\n",
    "    if second:\n",
    "        i_0 = -1\n",
    "    else:\n",
    "        i_0 = 0\n",
    "    f = []\n",
    "    for i in y:\n",
    "        f.append(i)\n",
    "    ans = np.poly1d([f[i_0]])\n",
    "    q = np.poly1d([1, -x[i_0]]) / (x[1] - x[0])\n",
    "    x_part = np.poly1d([1])\n",
    "    fac = 1\n",
    "    koef = -1\n",
    "    if second:\n",
    "        koef *= -1\n",
    "    for i in range(len(x) - 1):\n",
    "        for j in range(len(x) - 1 - i):\n",
    "            f[j] = (f[j+1] - f[j])\n",
    "        x_part *= (q + koef * i)\n",
    "        if second:\n",
    "            i_0 -= 1\n",
    "        fac *= i + 1\n",
    "        ans += x_part*f[i_0] / fac\n",
    "    return(ans)"
   ]
  },
  {
   "cell_type": "code",
   "execution_count": 117,
   "metadata": {},
   "outputs": [
    {
     "name": "stdout",
     "output_type": "stream",
     "text": [
      "[-2.0, 3.0, -1.0, 7]\n",
      "[2.5, -2.0, -1.0, 7]\n",
      "[-1.5, -2.0, -1.0, 7]\n",
      "      3      2\n",
      "-1.5 x + 16 x - 53.5 x + 62\n",
      "[2, 3, 4, 5] [7, 5, 8, 7]\n",
      "      3      2\n",
      "-1.5 x + 16 x - 53.5 x + 62\n"
     ]
    }
   ],
   "source": [
    "x = [2, 3, 4, 5]\n",
    "y = [7, 5, 8, 7]\n",
    "print(Newton_polynomial(x, y))\n",
    "print(x, y)\n",
    "print(Newton_interpolation_polynomial(x, y, False))"
   ]
  }
 ],
 "metadata": {
  "kernelspec": {
   "display_name": "Python 3",
   "language": "python",
   "name": "python3"
  },
  "language_info": {
   "codemirror_mode": {
    "name": "ipython",
    "version": 3
   },
   "file_extension": ".py",
   "mimetype": "text/x-python",
   "name": "python",
   "nbconvert_exporter": "python",
   "pygments_lexer": "ipython3",
   "version": "3.11.5"
  }
 },
 "nbformat": 4,
 "nbformat_minor": 2
}
