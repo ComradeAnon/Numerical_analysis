{
 "cells": [
  {
   "cell_type": "code",
   "execution_count": 43,
   "id": "c4e8ca68-1585-421c-b50e-eb120024d290",
   "metadata": {},
   "outputs": [
    {
     "name": "stdout",
     "output_type": "stream",
     "text": [
      "Requirement already satisfied: numpy in c:\\users\\anton\\appdata\\local\\programs\\python\\python311\\lib\\site-packages (1.26.0)\n"
     ]
    }
   ],
   "source": [
    "!pip install numpy"
   ]
  },
  {
   "cell_type": "code",
   "execution_count": 1,
   "id": "16425030-facd-43df-8fd7-5e4a34fae4ae",
   "metadata": {},
   "outputs": [],
   "source": [
    "import numpy as np"
   ]
  },
  {
   "cell_type": "code",
   "execution_count": 36,
   "id": "773c5d41-5b5e-4cf4-9a0b-840b209b3822",
   "metadata": {},
   "outputs": [],
   "source": [
    "def newton_metod(pol: np.poly1d, x0: float, eps: float):\n",
    "    f_der = np.polyder(pol)\n",
    "    x1 = x0 - pol(x0) / f_der(x0)\n",
    "    while (abs(x1 - x0) > eps):\n",
    "        x0 = x1\n",
    "        x1 = x0 - pol(x0) / f_der(x0)\n",
    "    return x1\n",
    "    \n",
    "def find_x0(pol: np.poly1d, max_iter: float = 50.0):\n",
    "    pol0 = pol(0)\n",
    "    for i in range(50):\n",
    "        if pol0 * pol(i + 1) <= 0:\n",
    "            return i + 1\n",
    "        if pol0 * pol(-(i + 1)) <= 0:\n",
    "            return -(i + 1)"
   ]
  },
  {
   "cell_type": "code",
   "execution_count": 42,
   "id": "e5597e21-7f55-4259-a7e1-78174e5cfedc",
   "metadata": {},
   "outputs": [
    {
     "name": "stdout",
     "output_type": "stream",
     "text": [
      "-1.7408033907506966\n",
      "2.0994130386625263\n"
     ]
    }
   ],
   "source": [
    "f = np.poly1d([3, -4, -8, 10, -7])\n",
    "print(newton_metod(f, find_x0(f), 0.0001))\n",
    "print(newton_metod(f, 2, 0.0001))"
   ]
  }
 ],
 "metadata": {
  "kernelspec": {
   "display_name": "Python 3 (ipykernel)",
   "language": "python",
   "name": "python3"
  },
  "language_info": {
   "codemirror_mode": {
    "name": "ipython",
    "version": 3
   },
   "file_extension": ".py",
   "mimetype": "text/x-python",
   "name": "python",
   "nbconvert_exporter": "python",
   "pygments_lexer": "ipython3",
   "version": "3.11.5"
  }
 },
 "nbformat": 4,
 "nbformat_minor": 5
}
