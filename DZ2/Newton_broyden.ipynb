{
 "cells": [
  {
   "cell_type": "code",
   "execution_count": 5,
   "id": "599ddf80-721d-4560-8717-5c946a5afab0",
   "metadata": {},
   "outputs": [
    {
     "name": "stdout",
     "output_type": "stream",
     "text": [
      "Requirement already satisfied: numpy in c:\\users\\anton\\appdata\\local\\programs\\python\\python311\\lib\\site-packages (1.26.0)\n"
     ]
    }
   ],
   "source": [
    "!pip install numpy"
   ]
  },
  {
   "cell_type": "code",
   "execution_count": 1,
   "id": "47f84851-d9b6-4696-930d-6c5ec6fa0f03",
   "metadata": {},
   "outputs": [],
   "source": [
    "import numpy as np"
   ]
  },
  {
   "cell_type": "code",
   "execution_count": 2,
   "id": "f8a8b147-61e3-4db1-a76b-e1dfe70e1e59",
   "metadata": {},
   "outputs": [],
   "source": [
    "def newton_broyden_metod(pol: np.poly1d, x0: float, eps: float, c: float):\n",
    "    f_der = np.polyder(pol)\n",
    "    x1 = x0 - pol(x0) / f_der(x0)\n",
    "    while (abs(x1 - x0) > eps):\n",
    "        x0 = x1\n",
    "        x1 = x0 - pol(x0) / f_der(x0)\n",
    "    return x1\n",
    "    \n",
    "def find_x0(pol: np.poly1d, max_iter: float = 50.0):\n",
    "    pol0 = pol(0)\n",
    "    for i in range(50):\n",
    "        if pol0 * pol(i + 1) <= 0:\n",
    "            return i + 1\n",
    "        if pol0 * pol(-(i + 1)) <= 0:\n",
    "            return -(i + 1)"
   ]
  },
  {
   "cell_type": "code",
   "execution_count": 4,
   "id": "437c0638-e82b-48b8-b025-597b3d0c7719",
   "metadata": {},
   "outputs": [
    {
     "name": "stdout",
     "output_type": "stream",
     "text": [
      "-1.7408033907506966\n",
      "2.0994130386625263\n"
     ]
    }
   ],
   "source": [
    "f = np.poly1d([3, -4, -8, 10, -7])\n",
    "print(newton_broyden_metod(f, find_x0(f), 0.0001, 1.5))\n",
    "print(newton_broyden_metod(f, 2, 0.0001, 1.5))"
   ]
  }
 ],
 "metadata": {
  "kernelspec": {
   "display_name": "Python 3 (ipykernel)",
   "language": "python",
   "name": "python3"
  },
  "language_info": {
   "codemirror_mode": {
    "name": "ipython",
    "version": 3
   },
   "file_extension": ".py",
   "mimetype": "text/x-python",
   "name": "python",
   "nbconvert_exporter": "python",
   "pygments_lexer": "ipython3",
   "version": "3.11.5"
  }
 },
 "nbformat": 4,
 "nbformat_minor": 5
}
