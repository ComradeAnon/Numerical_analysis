{
 "cells": [
  {
   "cell_type": "code",
   "execution_count": 6,
   "id": "edf5bf3e-fc4b-408e-aa51-351d8aa6c6a8",
   "metadata": {},
   "outputs": [
    {
     "name": "stdout",
     "output_type": "stream",
     "text": [
      "Requirement already satisfied: numpy in c:\\users\\anton\\appdata\\local\\programs\\python\\python311\\lib\\site-packages (1.26.0)\n"
     ]
    }
   ],
   "source": [
    "!pip install numpy"
   ]
  },
  {
   "cell_type": "code",
   "execution_count": 1,
   "id": "b18bf808-c6a1-477e-96ac-c2bf154ae6ac",
   "metadata": {},
   "outputs": [],
   "source": [
    "import numpy as np"
   ]
  },
  {
   "cell_type": "code",
   "execution_count": 2,
   "id": "618e613e-8ccf-42db-b98c-1693efabf47e",
   "metadata": {},
   "outputs": [],
   "source": [
    "def newton_update_metod(pol: np.poly1d, x0: float, eps: float):\n",
    "    f_der = np.polyder(pol)\n",
    "    x0_der = f_der(x0)\n",
    "    x1 = x0 - pol(x0) / f_der(x0)\n",
    "    while (abs(x1 - x0) > eps):\n",
    "        x0 = x1\n",
    "        x1 = x0 - pol(x0) / x0_der\n",
    "    return x1\n",
    "    \n",
    "def find_x0(pol: np.poly1d, max_iter: float = 50.0):\n",
    "    pol0 = pol(0)\n",
    "    for i in range(50):\n",
    "        if pol0 * pol(i + 1) <= 0:\n",
    "            return i + 1\n",
    "        if pol0 * pol(-(i + 1)) <= 0:\n",
    "            return -(i + 1)"
   ]
  },
  {
   "cell_type": "code",
   "execution_count": 5,
   "id": "b3f44723-86b0-441a-887a-d257bbc9f825",
   "metadata": {},
   "outputs": [
    {
     "name": "stdout",
     "output_type": "stream",
     "text": [
      "-1.7408300572040543\n",
      "2.0994345864682127\n"
     ]
    }
   ],
   "source": [
    "f = np.poly1d([3, -4, -8, 10, -7])\n",
    "print(newton_update_metod(f, find_x0(f), 0.0001))\n",
    "print(newton_update_metod(f, 2, 0.0001))"
   ]
  }
 ],
 "metadata": {
  "kernelspec": {
   "display_name": "Python 3 (ipykernel)",
   "language": "python",
   "name": "python3"
  },
  "language_info": {
   "codemirror_mode": {
    "name": "ipython",
    "version": 3
   },
   "file_extension": ".py",
   "mimetype": "text/x-python",
   "name": "python",
   "nbconvert_exporter": "python",
   "pygments_lexer": "ipython3",
   "version": "3.11.5"
  }
 },
 "nbformat": 4,
 "nbformat_minor": 5
}
