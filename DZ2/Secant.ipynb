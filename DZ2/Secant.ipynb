{
 "cells": [
  {
   "cell_type": "code",
   "execution_count": 1,
   "id": "fe95f6ab-0542-4b65-88d3-e6a80292cfad",
   "metadata": {},
   "outputs": [
    {
     "name": "stdout",
     "output_type": "stream",
     "text": [
      "Requirement already satisfied: numpy in c:\\users\\anton\\appdata\\local\\programs\\python\\python311\\lib\\site-packages (1.26.0)\n"
     ]
    }
   ],
   "source": [
    "!pip install numpy"
   ]
  },
  {
   "cell_type": "code",
   "execution_count": 1,
   "id": "c962c485-484c-45bf-b716-e6973cebaa1d",
   "metadata": {},
   "outputs": [],
   "source": [
    "import numpy as np"
   ]
  },
  {
   "cell_type": "code",
   "execution_count": 2,
   "id": "2abcc6cf-e4e9-4d23-9ee0-1c50014f86b1",
   "metadata": {},
   "outputs": [],
   "source": [
    "def secant_metod(pol: np.poly1d, x0: float, eps: float, sec: float):\n",
    "    f_der = (pol(x0) - pol(x0 - sec)) / sec\n",
    "    x1 = x0 - pol(x0) / f_der\n",
    "    while (abs(x1 - x0) > eps):\n",
    "        x0 = x1\n",
    "        f_der = (pol(x0) - pol(x0 - sec)) / sec\n",
    "        x1 = x0 - pol(x0) / f_der\n",
    "    return x1\n",
    "    \n",
    "def find_x0(pol: np.poly1d, max_iter: float = 50.0):\n",
    "    pol0 = pol(0)\n",
    "    for i in range(50):\n",
    "        if pol0 * pol(i + 1) <= 0:\n",
    "            return i + 1\n",
    "        if pol0 * pol(-(i + 1)) <= 0:\n",
    "            return -(i + 1)"
   ]
  },
  {
   "cell_type": "code",
   "execution_count": 4,
   "id": "8430a124-02fd-4feb-b7bb-f1797f13980b",
   "metadata": {},
   "outputs": [
    {
     "name": "stdout",
     "output_type": "stream",
     "text": [
      "-1.7408047023490894\n",
      "2.0994231527700182\n"
     ]
    }
   ],
   "source": [
    "f = np.poly1d([3, -4, -8, 10, -7])\n",
    "print(secant_metod(f, find_x0(f), 0.0001, 0.1))\n",
    "print(secant_metod(f, 2, 0.0001, 0.1))"
   ]
  }
 ],
 "metadata": {
  "kernelspec": {
   "display_name": "Python 3 (ipykernel)",
   "language": "python",
   "name": "python3"
  },
  "language_info": {
   "codemirror_mode": {
    "name": "ipython",
    "version": 3
   },
   "file_extension": ".py",
   "mimetype": "text/x-python",
   "name": "python",
   "nbconvert_exporter": "python",
   "pygments_lexer": "ipython3",
   "version": "3.11.5"
  }
 },
 "nbformat": 4,
 "nbformat_minor": 5
}
