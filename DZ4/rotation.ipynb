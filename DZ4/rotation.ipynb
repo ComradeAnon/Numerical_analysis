{
 "cells": [
  {
   "cell_type": "code",
   "execution_count": 1,
   "id": "63b63f3b-1a89-496e-b2a6-a756af13a9c2",
   "metadata": {},
   "outputs": [],
   "source": [
    "import numpy as np"
   ]
  },
  {
   "cell_type": "code",
   "execution_count": 2,
   "id": "a632035c-a351-4982-8b70-7a471bfdab06",
   "metadata": {},
   "outputs": [],
   "source": [
    "def find_max(A: np.array):\n",
    "    max_a = A[0][1]\n",
    "    i, j = 0, 1\n",
    "    for n in range(len(A)):\n",
    "        for m in range(n + 1, len(A)):\n",
    "            if abs(A[n][m]) > abs(max_a):\n",
    "                i, j = n, m\n",
    "                max_a = A[n][m]\n",
    "    return i, j, max_a"
   ]
  },
  {
   "cell_type": "code",
   "execution_count": 39,
   "id": "331efc3e-bff8-45a3-a244-6a6d8b587048",
   "metadata": {},
   "outputs": [],
   "source": [
    "def rotation(A: np.array, eps: float):\n",
    "    k = 0\n",
    "    i, j, max_a = find_max(A)\n",
    "    v = np.eye(len(A))\n",
    "    while (abs(max_a) > eps):\n",
    "        corner = 0.5 * np.arctan(2 * A[i][j] / (A[i][i] - A[j][j]))\n",
    "        ls = []\n",
    "        for n in range(len(A)):\n",
    "            st = [0] * len(A)\n",
    "            st[n] = 1\n",
    "            ls.append(st)\n",
    "        ls[i][i], ls[j][j], ls[i][j], ls[j][i]  = np.cos(corner), np.cos(corner), -1 * np.sin(corner), np.sin(corner)\n",
    "        H = np.array(ls)\n",
    "        v = np.matmul(v, H)\n",
    "        A = np.matmul(np.matmul(np.transpose(H), A), H)\n",
    "        i, j, max_a = find_max(A)\n",
    "        k = k + 1\n",
    "    lamb = []\n",
    "    X = []\n",
    "    for n in range(len(A)):\n",
    "        lamb.append(A[n][n])\n",
    "        new_x = []\n",
    "        for m in range(len(A)):\n",
    "            new_x.append(v[m][n])\n",
    "        X.append(np.array(new_x))\n",
    "        X[n] = X[n] / X[n][n]\n",
    "    return lamb, X"
   ]
  },
  {
   "cell_type": "code",
   "execution_count": 40,
   "id": "12f7c828-8e2e-4694-b2c4-3c6495ce48fa",
   "metadata": {},
   "outputs": [
    {
     "name": "stdout",
     "output_type": "stream",
     "text": [
      "λ =  6.895106515923419\n",
      "X 1  = [\n",
      "1.0000\n",
      "0.5736\n",
      "0.6607\n",
      "]\n",
      "λ =  3.39729506929709\n",
      "X 2  = [\n",
      "-0.5170\n",
      "1.0000\n",
      "-0.0857\n",
      "]\n",
      "λ =  1.7075984147794885\n",
      "X 3  = [\n",
      "-0.5475\n",
      "-0.1974\n",
      "1.0000\n",
      "]\n"
     ]
    }
   ],
   "source": [
    "mx = np.array([[5.0, 1.0, 2.0], [1.0, 4.0, 1.0], [2.0, 1.0, 3.0]])\n",
    "eigenvalues, eigenvectors = rotation(mx, 0.0001)\n",
    "for i in range(len(mx)):\n",
    "    print(\"\\u03BB = \", eigenvalues[i])\n",
    "    print(\"X\", (i + 1), \" = [\")\n",
    "    for j in eigenvectors[i]:\n",
    "        print(\"%.4f\" %(j))\n",
    "    print(\"]\")"
   ]
  }
 ],
 "metadata": {
  "kernelspec": {
   "display_name": "Python 3 (ipykernel)",
   "language": "python",
   "name": "python3"
  },
  "language_info": {
   "codemirror_mode": {
    "name": "ipython",
    "version": 3
   },
   "file_extension": ".py",
   "mimetype": "text/x-python",
   "name": "python",
   "nbconvert_exporter": "python",
   "pygments_lexer": "ipython3",
   "version": "3.11.5"
  }
 },
 "nbformat": 4,
 "nbformat_minor": 5
}
