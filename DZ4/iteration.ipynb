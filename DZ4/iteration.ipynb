{
 "cells": [
  {
   "cell_type": "code",
   "execution_count": 1,
   "id": "fd7d6185-f930-4273-b9b2-b33a43877b71",
   "metadata": {},
   "outputs": [],
   "source": [
    "import numpy as np"
   ]
  },
  {
   "cell_type": "code",
   "execution_count": 6,
   "id": "01f7b643-2d9b-43fe-b2d0-aa7d306611e7",
   "metadata": {},
   "outputs": [],
   "source": [
    "def iteration(A: np.array, eps: float):\n",
    "    ls = []\n",
    "    for i in A:\n",
    "        ls.append([1])\n",
    "    x = np.array(ls)\n",
    "    lamb = x[0][0]\n",
    "    pot_eps = eps * 1000\n",
    "    k = 0\n",
    "    while (eps < pot_eps):\n",
    "        new_x = np.dot(A, x)\n",
    "        new_lamb = new_x[0][0] / x[0][0]\n",
    "        pot_eps = abs(lamb - new_lamb)\n",
    "        x = new_x\n",
    "        lamb = new_lamb\n",
    "    return (lamb, x / x[0])"
   ]
  },
  {
   "cell_type": "code",
   "execution_count": 7,
   "id": "81396659-38dd-48e0-8ac0-d8ab609febb2",
   "metadata": {},
   "outputs": [
    {
     "name": "stdout",
     "output_type": "stream",
     "text": [
      "λ =  2.9999661303979677\n",
      "X = [\n",
      "1.0000000000\n",
      "-0.9999774200\n",
      "0.0000112900\n",
      "]\n"
     ]
    }
   ],
   "source": [
    "mx = np.array([[2.0, -1.0, 1.0], [-1.0, 2.0, -1.0], [0.0, 0.0, 1.0]])\n",
    "ans = iteration(mx, 0.0001)\n",
    "print(\"\\u03BB = \", ans[0])\n",
    "print(\"X = [\")\n",
    "for i in ans[1]:\n",
    "    print(\"%.10f\" %(i[0]))\n",
    "print(\"]\")"
   ]
  }
 ],
 "metadata": {
  "kernelspec": {
   "display_name": "Python 3 (ipykernel)",
   "language": "python",
   "name": "python3"
  },
  "language_info": {
   "codemirror_mode": {
    "name": "ipython",
    "version": 3
   },
   "file_extension": ".py",
   "mimetype": "text/x-python",
   "name": "python",
   "nbconvert_exporter": "python",
   "pygments_lexer": "ipython3",
   "version": "3.11.5"
  }
 },
 "nbformat": 4,
 "nbformat_minor": 5
}
