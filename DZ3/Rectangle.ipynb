{
 "cells": [
  {
   "cell_type": "code",
   "execution_count": 2,
   "id": "25f5cc04-0051-4ad4-bd7f-1e9acd025f94",
   "metadata": {},
   "outputs": [],
   "source": [
    "import numpy as np"
   ]
  },
  {
   "cell_type": "code",
   "execution_count": 36,
   "id": "3e8c6e34-8991-4590-b996-be955022c8ef",
   "metadata": {},
   "outputs": [],
   "source": [
    "def rectangle_method(matrix: np.array):\n",
    "    y_size = len(matrix)\n",
    "    for i in matrix:\n",
    "        if len(i) != y_size + 1:\n",
    "            raise Exception(\"Не квадратная матрица\")\n",
    "    x, y = 0, 0\n",
    "    while y != y_size:\n",
    "        if (matrix[y][x] == 0):\n",
    "            raise Exception(\"На диагонали нулевой элемент\")\n",
    "        n_m = list()\n",
    "        for i in matrix:\n",
    "            n_m.append(i)\n",
    "        new_matrix = np.array(n_m)\n",
    "        new_matrix[y] = matrix[y] / matrix[y][x]\n",
    "        for i in range(y + 1, y_size):\n",
    "            for j in range(x, y_size + 1):\n",
    "                new_matrix[i][j] -= matrix[y][j] * matrix[i][x] / matrix[y][x]\n",
    "        x += 1\n",
    "        y += 1\n",
    "        matrix = new_matrix\n",
    "    while y > 0:\n",
    "        y -= 1\n",
    "        x -= 1\n",
    "        for i in range(y):\n",
    "            k = matrix[i][x]\n",
    "            for j in range(x, y_size + 1):\n",
    "                matrix[i][j] -= matrix[y][j] * k\n",
    "    ls = []\n",
    "    for i in matrix:\n",
    "        ls.append(i[y_size])\n",
    "    return np.array(ls)"
   ]
  },
  {
   "cell_type": "code",
   "execution_count": 35,
   "id": "5291ab90-c661-4e96-8782-2ce612657258",
   "metadata": {},
   "outputs": [
    {
     "name": "stdout",
     "output_type": "stream",
     "text": [
      "[1. 2. 3.]\n"
     ]
    }
   ],
   "source": [
    "mx = np.array([[2.0, 1.0, 4.0, 16.0], [3.0, 2.0, 1.0, 10.0], [1.0, 3.0, 3.0, 16.0]])\n",
    "print(rectangle_method(mx))"
   ]
  }
 ],
 "metadata": {
  "kernelspec": {
   "display_name": "Python 3 (ipykernel)",
   "language": "python",
   "name": "python3"
  },
  "language_info": {
   "codemirror_mode": {
    "name": "ipython",
    "version": 3
   },
   "file_extension": ".py",
   "mimetype": "text/x-python",
   "name": "python",
   "nbconvert_exporter": "python",
   "pygments_lexer": "ipython3",
   "version": "3.11.5"
  }
 },
 "nbformat": 4,
 "nbformat_minor": 5
}
