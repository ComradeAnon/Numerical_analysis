{
 "cells": [
  {
   "cell_type": "code",
   "execution_count": 60,
   "id": "2af0a2f6-3069-4cc8-8ff0-15570a46c81d",
   "metadata": {},
   "outputs": [],
   "source": [
    "import numpy as np\n",
    "import math"
   ]
  },
  {
   "cell_type": "code",
   "execution_count": 85,
   "id": "6dacf2bf-0fdb-4704-8857-a274e2fa0b76",
   "metadata": {},
   "outputs": [],
   "source": [
    "def simple_itteration(matrix: np.array, eps: float):\n",
    "    y_size = len(matrix)\n",
    "    n_a = []\n",
    "    n_b = []\n",
    "    a_norm = 0\n",
    "    for i in range(y_size):\n",
    "        pot_norm = 0\n",
    "        n_s = []\n",
    "        if len(matrix[i]) != y_size + 1:\n",
    "            raise Exception(\"Не квадратная матрица\")\n",
    "        d = 2 * abs(matrix[i][i])\n",
    "        for j in range(y_size):\n",
    "            d -= abs(matrix[i][j])\n",
    "        if d < 0:\n",
    "            raise Exception(\"Не преобладают диагональные элементы\")\n",
    "        matrix[i] = matrix[i] / matrix[i][i]\n",
    "        for j in range(y_size):\n",
    "            if i == j:\n",
    "                n_s.append(0.0)\n",
    "            else:\n",
    "                n_s.append(-1 * matrix[i][j])\n",
    "                pot_norm += abs(matrix[i][j])\n",
    "        n_a.append(n_s)\n",
    "        n_b.append(matrix[i][y_size])\n",
    "        a_norm = max(a_norm, pot_norm)\n",
    "    if a_norm >= 1:\n",
    "            raise Exception(\"Норма больше или равна единице\")\n",
    "    alpha = np.array(n_a)\n",
    "    beta = np.array(n_b)\n",
    "    b_norm = max(beta)\n",
    "    k = math.ceil((math.log10(eps) + math.log10(1 - a_norm) - math.log10(b_norm)) / math.log10(a_norm) - 1.)\n",
    "    x = []\n",
    "    for i in beta:\n",
    "        x.append(i)\n",
    "    for i in range(k):\n",
    "        x = alpha.dot(x) + beta\n",
    "    return x"
   ]
  },
  {
   "cell_type": "code",
   "execution_count": 86,
   "id": "097a1118-1027-48f9-a864-e07c166eb016",
   "metadata": {},
   "outputs": [
    {
     "name": "stdout",
     "output_type": "stream",
     "text": [
      "[0.999568 0.99946  0.999316]\n"
     ]
    }
   ],
   "source": [
    "mx = np.array([[10.0, 1.0, 1.0, 12.0], [2.0, 10.0, 1.0, 13.0], [2.0, 2.0, 10.0, 14.0]])\n",
    "print(simple_itteration(mx, 0.01))"
   ]
  }
 ],
 "metadata": {
  "kernelspec": {
   "display_name": "Python 3 (ipykernel)",
   "language": "python",
   "name": "python3"
  },
  "language_info": {
   "codemirror_mode": {
    "name": "ipython",
    "version": 3
   },
   "file_extension": ".py",
   "mimetype": "text/x-python",
   "name": "python",
   "nbconvert_exporter": "python",
   "pygments_lexer": "ipython3",
   "version": "3.11.5"
  }
 },
 "nbformat": 4,
 "nbformat_minor": 5
}
