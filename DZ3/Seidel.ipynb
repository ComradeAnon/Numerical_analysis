{
 "cells": [
  {
   "cell_type": "code",
   "execution_count": 1,
   "id": "ef0d4564-1781-4b6b-b99f-107c754e6137",
   "metadata": {},
   "outputs": [],
   "source": [
    "import numpy as np\n",
    "import math"
   ]
  },
  {
   "cell_type": "code",
   "execution_count": 64,
   "id": "481fa2c5-946e-434a-ad19-3f6b9aa383f1",
   "metadata": {},
   "outputs": [],
   "source": [
    "def Seidel(matrix: np.array, eps: float):\n",
    "    y_size = len(matrix)\n",
    "    n_a = []\n",
    "    n_b = []\n",
    "    a_norm = 0\n",
    "    for i in range(y_size):\n",
    "        pot_norm = 0\n",
    "        n_s = []\n",
    "        if len(matrix[i]) != y_size + 1:\n",
    "            raise Exception(\"Не квадратная матрица\")\n",
    "        d = 2 * abs(matrix[i][i])\n",
    "        for j in range(y_size):\n",
    "            d -= abs(matrix[i][j])\n",
    "        if d < 0:\n",
    "            raise Exception(\"Не преобладают диагональные элементы\")\n",
    "        matrix[i] = matrix[i] / matrix[i][i]\n",
    "        for j in range(y_size):\n",
    "            if i == j:\n",
    "                n_s.append(0.0)\n",
    "            else:\n",
    "                n_s.append(-1 * matrix[i][j])\n",
    "                pot_norm += abs(matrix[i][j])\n",
    "        n_a.append(n_s)\n",
    "        n_b.append(matrix[i][y_size])\n",
    "        a_norm = max(a_norm, pot_norm)\n",
    "    if a_norm >= 1:\n",
    "            raise Exception(\"Норма больше или равна единице\")\n",
    "    alpha = np.array(n_a)\n",
    "    beta = np.array(n_b)\n",
    "    b_norm = max(beta)\n",
    "    x = []\n",
    "    k_x = []\n",
    "    for i in beta:\n",
    "        x.append(i)\n",
    "        k_x.append(0)\n",
    "    while np.linalg.norm(np.array(x) - np.array(k_x)) > eps:\n",
    "        for i in range(len(x)):\n",
    "            k_x[i] = x[i]\n",
    "            x[i] = beta[i]\n",
    "            for j in range(len(x)):\n",
    "                x[i] += x[j] * alpha[i][j]\n",
    "    return x"
   ]
  },
  {
   "cell_type": "code",
   "execution_count": 65,
   "id": "1f6fee9a-22ad-40b7-b07d-68618fbbd686",
   "metadata": {},
   "outputs": [
    {
     "name": "stdout",
     "output_type": "stream",
     "text": [
      "[1.00000861248, 1.000000576384, 0.9999981622271998]\n"
     ]
    }
   ],
   "source": [
    "mx = np.array([[10.0, 1.0, 1.0, 12.0], [2.0, 10.0, 1.0, 13.0], [2.0, 2.0, 10.0, 14.0]])\n",
    "print(Seidel(mx, 0.001))"
   ]
  }
 ],
 "metadata": {
  "kernelspec": {
   "display_name": "Python 3 (ipykernel)",
   "language": "python",
   "name": "python3"
  },
  "language_info": {
   "codemirror_mode": {
    "name": "ipython",
    "version": 3
   },
   "file_extension": ".py",
   "mimetype": "text/x-python",
   "name": "python",
   "nbconvert_exporter": "python",
   "pygments_lexer": "ipython3",
   "version": "3.11.5"
  }
 },
 "nbformat": 4,
 "nbformat_minor": 5
}
