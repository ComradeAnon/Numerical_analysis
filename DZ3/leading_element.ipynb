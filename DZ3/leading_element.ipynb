{
 "cells": [
  {
   "cell_type": "code",
   "execution_count": 1,
   "id": "5ae26468-a009-4012-a8c1-50d5c8a88968",
   "metadata": {},
   "outputs": [],
   "source": [
    "import numpy as np"
   ]
  },
  {
   "cell_type": "code",
   "execution_count": 28,
   "id": "c693bf60-fc41-4c26-a065-3dfad1fa209c",
   "metadata": {},
   "outputs": [],
   "source": [
    "def leading_element(matrix: np.array):\n",
    "    y_size = len(matrix)\n",
    "    for i in matrix:\n",
    "        if len(i) != y_size + 1:\n",
    "            raise Exception(\"Не квадратная матрица\")\n",
    "    x, y = 0, 0\n",
    "    while y != y_size:\n",
    "        pot_y, s = y, matrix[y][x]\n",
    "        for i in range(y, y_size):\n",
    "            if matrix[i][x] > s:\n",
    "                s = matrix[i][x]\n",
    "                pot_y = i\n",
    "        for j in range(y_size + 1):\n",
    "            matrix[y][j], matrix[pot_y][j] = matrix[pot_y][j], matrix[y][j]\n",
    "        if (matrix[y][x] == 0):\n",
    "            return False\n",
    "        matrix[y] = matrix[y] / matrix[y][x]\n",
    "        for i in range(y + 1, y_size):\n",
    "            k = matrix[i][x]\n",
    "            for j in range(x, y_size + 1):\n",
    "                matrix[i][j] -= matrix[y][j] * k\n",
    "        x += 1\n",
    "        y += 1\n",
    "    while y > 0:\n",
    "        y -= 1\n",
    "        x -= 1\n",
    "        for i in range(y):\n",
    "            k = matrix[i][x]\n",
    "            for j in range(x, y_size + 1):\n",
    "                matrix[i][j] -= matrix[y][j] * k\n",
    "    ls = []\n",
    "    for i in matrix:\n",
    "        ls.append(i[y_size])\n",
    "    return np.array(ls)"
   ]
  },
  {
   "cell_type": "code",
   "execution_count": 27,
   "id": "3b51e376-853e-4c39-b708-ab3842c01798",
   "metadata": {},
   "outputs": [
    {
     "name": "stdout",
     "output_type": "stream",
     "text": [
      "[ 0. -1.  1.]\n"
     ]
    }
   ],
   "source": [
    "mx = np.array([[-3.0, 2.099, 6.0, 3.901], [10.0, -7.0, 0.0, 7.0], [5.0, -1.0, 5.0, 6.0]])\n",
    "print(leading_element(mx))"
   ]
  },
  {
   "cell_type": "code",
   "execution_count": null,
   "id": "ab9c9011-f7a5-4a2f-8d64-3a9c178eb7f3",
   "metadata": {},
   "outputs": [],
   "source": []
  }
 ],
 "metadata": {
  "kernelspec": {
   "display_name": "Python 3 (ipykernel)",
   "language": "python",
   "name": "python3"
  },
  "language_info": {
   "codemirror_mode": {
    "name": "ipython",
    "version": 3
   },
   "file_extension": ".py",
   "mimetype": "text/x-python",
   "name": "python",
   "nbconvert_exporter": "python",
   "pygments_lexer": "ipython3",
   "version": "3.11.5"
  }
 },
 "nbformat": 4,
 "nbformat_minor": 5
}
