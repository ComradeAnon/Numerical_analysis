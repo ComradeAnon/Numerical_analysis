{
 "cells": [
  {
   "cell_type": "code",
   "execution_count": 6,
   "id": "5e5727b9-4e70-4eba-aca5-9f8e158ae12e",
   "metadata": {},
   "outputs": [],
   "source": [
    "import numpy as np"
   ]
  },
  {
   "cell_type": "code",
   "execution_count": 92,
   "id": "12dc6efc-8a19-4c0e-b1a6-13d05d8245a7",
   "metadata": {},
   "outputs": [],
   "source": [
    "def lu_decomposition(matrix: np.array):\n",
    "    y_size = len(matrix)\n",
    "    for i in matrix:\n",
    "        if len(i) != y_size + 1:\n",
    "            raise Exception(\"Не квадратная матрица\")\n",
    "    x, y = 0, 0\n",
    "    while y != y_size:\n",
    "        for i in range(y, y_size):\n",
    "            for j in range(0, y):\n",
    "                matrix[i][x] -= matrix[j][x] * matrix[i][j]\n",
    "        for i in range(x+1, y_size):\n",
    "            for j in range(0, x):\n",
    "                matrix[y][i] -= (matrix[y][j] * matrix[j][i])\n",
    "            matrix[y][i] = matrix[y][i] / matrix[y][x]\n",
    "        x += 1\n",
    "        y += 1\n",
    "    n_m = []\n",
    "    for i in range(y_size):\n",
    "        n_s = []\n",
    "        for j in range(y_size):\n",
    "            if (j <= i):\n",
    "                n_s.append(matrix[i][j])\n",
    "            else:\n",
    "                n_s.append(0)\n",
    "        n_s.append(matrix[i][y_size])\n",
    "        n_m.append(n_s)\n",
    "    L = np.array(n_m)\n",
    "    ls = []\n",
    "    for i in L:\n",
    "        otv = i[y_size]\n",
    "        for j in range(len(ls)):\n",
    "            otv -= i[j] * ls[j]\n",
    "        ls.append(otv / i[len(ls)])\n",
    "    n_m = []\n",
    "    for i in range(y_size):\n",
    "        n_s = []\n",
    "        for j in range(y_size):\n",
    "            if (j < i):\n",
    "                n_s.append(0)\n",
    "            elif(j == i):\n",
    "                n_s.append(1)\n",
    "            else:\n",
    "                n_s.append(matrix[i][j])\n",
    "        n_s.append(ls[i])\n",
    "        n_m.append(n_s)\n",
    "    U = np.array(n_m)\n",
    "    y, x = y_size, y_size\n",
    "    while y > 0:\n",
    "        y -= 1\n",
    "        x -= 1\n",
    "        for i in range(y):\n",
    "            k = U[i][x]\n",
    "            for j in range(x, y_size + 1):\n",
    "                U[i][j] -= U[y][j] * k\n",
    "    ls = []\n",
    "    for i in U:\n",
    "        ls.append(i[y_size])\n",
    "    return ls"
   ]
  },
  {
   "cell_type": "code",
   "execution_count": 93,
   "id": "c2d11ba7-f037-49fd-b01f-4080e7075de7",
   "metadata": {},
   "outputs": [
    {
     "name": "stdout",
     "output_type": "stream",
     "text": [
      "[2.000000000000001, 1.0000000000000018, 3.0]\n"
     ]
    }
   ],
   "source": [
    "mx = np.array([[3.0, -1.0, 0.0, 5.0], [-2.0, 1.0, 1.0, 0.0], [2.0, -1.0, 4.0, 15.0]])\n",
    "print(lu_decomposition(mx))"
   ]
  }
 ],
 "metadata": {
  "kernelspec": {
   "display_name": "Python 3 (ipykernel)",
   "language": "python",
   "name": "python3"
  },
  "language_info": {
   "codemirror_mode": {
    "name": "ipython",
    "version": 3
   },
   "file_extension": ".py",
   "mimetype": "text/x-python",
   "name": "python",
   "nbconvert_exporter": "python",
   "pygments_lexer": "ipython3",
   "version": "3.11.5"
  }
 },
 "nbformat": 4,
 "nbformat_minor": 5
}
