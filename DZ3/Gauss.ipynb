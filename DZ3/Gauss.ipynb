{
 "cells": [
  {
   "cell_type": "code",
   "execution_count": 3,
   "id": "ca221d01-0796-4548-a7ff-0bfbbd806c1a",
   "metadata": {},
   "outputs": [],
   "source": [
    "import numpy as np"
   ]
  },
  {
   "cell_type": "code",
   "execution_count": 6,
   "id": "197e1c3f-7739-4b4f-891e-f476afbea2fe",
   "metadata": {},
   "outputs": [],
   "source": [
    "def Gauss(matrix: np.array):\n",
    "    y_size = len(matrix)\n",
    "    for i in matrix:\n",
    "        if len(i) != y_size + 1:\n",
    "            raise Exception(\"Не квадратная матрица\")\n",
    "    x, y = 0, 0\n",
    "    while y != y_size:\n",
    "        if (matrix[y][x] == 0):\n",
    "            raise Exception(\"На диагонали нулевой элемент\")\n",
    "        matrix[y] = matrix[y] / matrix[y][x]\n",
    "        for i in range(y + 1, y_size):\n",
    "            k = matrix[i][x]\n",
    "            for j in range(x, y_size + 1):\n",
    "                matrix[i][j] -= matrix[y][j] * k\n",
    "        x += 1\n",
    "        y += 1\n",
    "    while y > 0:\n",
    "        y -= 1\n",
    "        x -= 1\n",
    "        for i in range(y):\n",
    "            k = matrix[i][x]\n",
    "            for j in range(x, y_size + 1):\n",
    "                matrix[i][j] -= matrix[y][j] * k\n",
    "    ls = []\n",
    "    for i in matrix:\n",
    "        ls.append(i[y_size])\n",
    "    return np.array(ls)"
   ]
  },
  {
   "cell_type": "code",
   "execution_count": 5,
   "id": "edc1fe96-233a-46ce-89d2-97047e6a931a",
   "metadata": {},
   "outputs": [
    {
     "name": "stdout",
     "output_type": "stream",
     "text": [
      "[2. 1. 1.]\n"
     ]
    }
   ],
   "source": [
    "mx = np.array([[5.0, 0.0, 1.0, 11.0], [2.0, 6.0, -2.0, 8.0], [-3.0, 2.0, 10.0, 6.0]])\n",
    "print(Gauss(mx))"
   ]
  }
 ],
 "metadata": {
  "kernelspec": {
   "display_name": "Python 3 (ipykernel)",
   "language": "python",
   "name": "python3"
  },
  "language_info": {
   "codemirror_mode": {
    "name": "ipython",
    "version": 3
   },
   "file_extension": ".py",
   "mimetype": "text/x-python",
   "name": "python",
   "nbconvert_exporter": "python",
   "pygments_lexer": "ipython3",
   "version": "3.11.5"
  }
 },
 "nbformat": 4,
 "nbformat_minor": 5
}
